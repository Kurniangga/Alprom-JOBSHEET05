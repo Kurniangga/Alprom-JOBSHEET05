{
  "cells": [
    {
      "cell_type": "markdown",
      "metadata": {
        "id": "view-in-github",
        "colab_type": "text"
      },
      "source": [
        "<a href=\"https://colab.research.google.com/github/Kurniangga/Alprom-JOBSHEET05/blob/main/KurniaAngga_Jobsheet05.ipynb\" target=\"_parent\"><img src=\"https://colab.research.google.com/assets/colab-badge.svg\" alt=\"Open In Colab\"/></a>"
      ]
    },
    {
      "cell_type": "markdown",
      "metadata": {
        "id": "lK7Wm_GciNjg"
      },
      "source": [
        "Praktikum 01 – Indexing dan Slicing"
      ]
    },
    {
      "cell_type": "code",
      "execution_count": null,
      "metadata": {
        "colab": {
          "base_uri": "https://localhost:8080/"
        },
        "id": "04s-W_mJiILH",
        "outputId": "5367811b-9853-493f-ff68-5a214c6f3eaf"
      },
      "outputs": [
        {
          "name": "stdout",
          "output_type": "stream",
          "text": [
            "P\n",
            "Politeknik \n",
            "Semarang\n"
          ]
        }
      ],
      "source": [
        "teks = \"Politeknik Negeri Semarang\"\n",
        "print(teks[0]) # 'P'\n",
        "print(teks[0:11]) # 'Politeknik'\n",
        "print(teks[-8:]) # 'Semarang'"
      ]
    },
    {
      "cell_type": "markdown",
      "metadata": {
        "id": "WbMEp2HSufBR"
      },
      "source": [
        "Praktikum 02 – Method Bawaan String"
      ]
    },
    {
      "cell_type": "code",
      "execution_count": null,
      "metadata": {
        "colab": {
          "base_uri": "https://localhost:8080/"
        },
        "id": "Dnr3sopPujwH",
        "outputId": "15798f4b-68f1-4919-9f18-e34a89f282bc"
      },
      "outputs": [
        {
          "name": "stdout",
          "output_type": "stream",
          "text": [
            " POLITEKNIK NEGERI SEMARANG \n",
            " politeknik negeri semarang \n",
            " Politeknik Negeri Semarang \n",
            "Politeknik Negeri Semarang\n",
            "['', 'Politeknik', 'Negeri', 'Semarang', '']\n",
            "Politeknik-Negeri-Semarang\n"
          ]
        }
      ],
      "source": [
        "teks = \" Politeknik Negeri Semarang \"\n",
        "print(teks.upper())\n",
        "print(teks.lower())\n",
        "print(teks.title())\n",
        "print(teks.strip())\n",
        "print(teks.split(\" \"))\n",
        "print(\"-\".join([\"Politeknik\",\"Negeri\",\"Semarang\"]))"
      ]
    },
    {
      "cell_type": "markdown",
      "metadata": {
        "id": "QmNpjCMnur1j"
      },
      "source": [
        "Praktikum 03 – Validasi Password"
      ]
    },
    {
      "cell_type": "code",
      "execution_count": null,
      "metadata": {
        "colab": {
          "base_uri": "https://localhost:8080/"
        },
        "id": "yXRVRbtbuuYe",
        "outputId": "54422e02-b0ef-4a56-9711-6aa974b2ffdb"
      },
      "outputs": [
        {
          "output_type": "stream",
          "name": "stdout",
          "text": [
            "Masukkan password: abc\n",
            "Password terlalu pendek\n"
          ]
        }
      ],
      "source": [
        "password = input(\"Masukkan password: \")\n",
        "if len(password) >= 8:\n",
        "  print(\"Password valid\")\n",
        "else:\n",
        "   print(\"Password terlalu pendek\")"
      ]
    },
    {
      "cell_type": "markdown",
      "metadata": {
        "id": "XlFW7n9OvBOC"
      },
      "source": [
        "Praktikum 04 – String Formatting dengan F-String"
      ]
    },
    {
      "cell_type": "code",
      "execution_count": null,
      "metadata": {
        "colab": {
          "base_uri": "https://localhost:8080/"
        },
        "id": "oKRgjjEFvEJt",
        "outputId": "195a32d0-319a-4557-9353-dc15fe4181aa"
      },
      "outputs": [
        {
          "output_type": "stream",
          "name": "stdout",
          "text": [
            "Masukkan nama: Budi\n",
            "Masukkan umur: 21\n",
            "Nama saya Budi, umur 21 tahun.\n"
          ]
        }
      ],
      "source": [
        "nama = input(\"Masukkan nama: \")\n",
        "umur = int(input(\"Masukkan umur: \"))\n",
        "print(f\"Nama saya {nama}, umur {umur} tahun.\")"
      ]
    },
    {
      "cell_type": "markdown",
      "metadata": {
        "id": "Jw4osgTvvP4o"
      },
      "source": [
        "Praktikum 05 – Operasi dalam F-String"
      ]
    },
    {
      "cell_type": "code",
      "execution_count": null,
      "metadata": {
        "colab": {
          "base_uri": "https://localhost:8080/"
        },
        "id": "k6zSbGjqvTVo",
        "outputId": "f9a32f7a-1b80-4fc9-9b7c-c3ab5ff4b201"
      },
      "outputs": [
        {
          "output_type": "stream",
          "name": "stdout",
          "text": [
            "Masukkan nilai a: 10\n",
            "Masukkan nilai b: 3\n",
            "Hasil penjumlahan 10+3 = 13\n",
            "Hasil pembagian 10/3 = 3.33\n"
          ]
        }
      ],
      "source": [
        "a = int(input(\"Masukkan nilai a: \"))\n",
        "b = int(input(\"Masukkan nilai b: \"))\n",
        "print(f\"Hasil penjumlahan {a}+{b} = {a+b}\")\n",
        "print(f\"Hasil pembagian {a}/{b} = {a/b:.2f}\")"
      ]
    },
    {
      "cell_type": "markdown",
      "metadata": {
        "id": "W6tZkqE5vaeb"
      },
      "source": [
        "Praktikum 06 – Casting String"
      ]
    },
    {
      "cell_type": "code",
      "execution_count": null,
      "metadata": {
        "colab": {
          "base_uri": "https://localhost:8080/"
        },
        "id": "mTdUAm2xvde4",
        "outputId": "3988f603-00b9-4e67-ffbf-ae3b1ce56476"
      },
      "outputs": [
        {
          "output_type": "stream",
          "name": "stdout",
          "text": [
            "Nilai: 123\n",
            "466\n"
          ]
        }
      ],
      "source": [
        "angka = 123\n",
        "teks = \"456\"\n",
        "\n",
        "print(\"Nilai: \" + str(angka))\n",
        "print(int(teks) + 10)"
      ]
    },
    {
      "cell_type": "markdown",
      "metadata": {
        "id": "0wKy3nfEv3Q6"
      },
      "source": [
        "Praktikum 07 – Studi Kasus Nyata: Analisis Kalimat"
      ]
    },
    {
      "cell_type": "code",
      "execution_count": null,
      "metadata": {
        "colab": {
          "background_save": true
        },
        "id": "4lx3RB3rv5j3",
        "outputId": "4aca528c-621c-4e5f-f065-c3e2fcce63e7"
      },
      "outputs": [
        {
          "name": "stdout",
          "output_type": "stream",
          "text": [
            "Jumlah kata: 6\n",
            "1 Saya\n",
            "2 kuliah\n",
            "3 di\n",
            "4 Politeknik\n",
            "5 Negeri\n",
            "6 Semarang\n"
          ]
        }
      ],
      "source": [
        "kalimat = \"Saya kuliah di Politeknik Negeri Semarang\"\n",
        "daftar_kata = kalimat.split(\" \")"
      ]
    },
    {
      "cell_type": "markdown",
      "source": [
        "Penugasan Nomor 3 - Indexing dan Slicing"
      ],
      "metadata": {
        "id": "qkA8E3XAW2KB"
      }
    },
    {
      "cell_type": "code",
      "source": [
        "teks = \"Politeknik Negeri Semarang\"\n",
        "print(teks[0])\n",
        "print(teks[25])\n",
        "print(teks[-15:-9])"
      ],
      "metadata": {
        "colab": {
          "base_uri": "https://localhost:8080/"
        },
        "id": "92wtjnzWa9sF",
        "outputId": "c4ecb47a-64d9-424f-aa2f-4d361ea6df05"
      },
      "execution_count": null,
      "outputs": [
        {
          "output_type": "stream",
          "name": "stdout",
          "text": [
            "P\n",
            "g\n",
            "Negeri\n"
          ]
        }
      ]
    },
    {
      "cell_type": "markdown",
      "source": [
        "Penugasan Nomor 4 - Manipulasi String"
      ],
      "metadata": {
        "id": "JDACpc-YbpXC"
      }
    },
    {
      "cell_type": "code",
      "source": [
        "teks = input(\"Masukkan Kalimat : \")\n",
        "print(teks.upper())\n",
        "print(teks.lower())\n",
        "print(len(teks))"
      ],
      "metadata": {
        "colab": {
          "base_uri": "https://localhost:8080/"
        },
        "id": "P0MketWjb03r",
        "outputId": "d1a76776-165e-4d52-b4be-238e05b9b203"
      },
      "execution_count": null,
      "outputs": [
        {
          "output_type": "stream",
          "name": "stdout",
          "text": [
            "Masukkan Kalimat : Kurnia Angga Dimas Pratama\n",
            "KURNIA ANGGA DIMAS PRATAMA\n",
            "kurnia angga dimas pratama\n",
            "26\n"
          ]
        }
      ]
    },
    {
      "cell_type": "markdown",
      "source": [
        "Penugasan Nomor 5 - Validasi Username"
      ],
      "metadata": {
        "id": "IpibKQ45dbbH"
      }
    },
    {
      "cell_type": "code",
      "source": [
        "username = input(\"Masukkan username: \")\n",
        "if \" \" in username:\n",
        "  print(\"Username tidak valid, EROR\")\n",
        "else :\n",
        "  print(\"Username valid\")"
      ],
      "metadata": {
        "colab": {
          "base_uri": "https://localhost:8080/"
        },
        "id": "-0uNA3SVdarq",
        "outputId": "724c2271-6a6b-4a84-9b07-7551c196c8ca"
      },
      "execution_count": null,
      "outputs": [
        {
          "output_type": "stream",
          "name": "stdout",
          "text": [
            "Masukkan username: kurniaangga\n",
            "Username valid\n"
          ]
        }
      ]
    },
    {
      "cell_type": "markdown",
      "source": [
        "Penugasan Nomor 6 - String Formating Dengan F-String"
      ],
      "metadata": {
        "id": "8JWw1s0wewqC"
      }
    },
    {
      "cell_type": "code",
      "source": [
        "Nama = \"Andi\"\n",
        "Umur = 20\n",
        "Jurusan = \"Teknologi Rekayasa Komputer\"\n",
        "\n",
        "print(f\"Nama : {Nama}\")\n",
        "print(f\"Umur : {Umur}\")\n",
        "print(f\"Jurusan : {Jurusan}\")"
      ],
      "metadata": {
        "colab": {
          "base_uri": "https://localhost:8080/"
        },
        "id": "JewvfJ5Oe6wo",
        "outputId": "81cab201-e29e-478d-a856-81bbc6f25665"
      },
      "execution_count": null,
      "outputs": [
        {
          "output_type": "stream",
          "name": "stdout",
          "text": [
            "Nama : Andi\n",
            "Umur : 20\n",
            "Jurusan : Teknologi Rekayasa Komputer\n"
          ]
        }
      ]
    },
    {
      "cell_type": "markdown",
      "source": [
        "Penugasan Nomor 7 - Operasi dalam F-String"
      ],
      "metadata": {
        "id": "CbGlddOcf55I"
      }
    },
    {
      "cell_type": "code",
      "source": [
        "a = int(input(\"Masukkan nilai a: \"))\n",
        "b = int(input(\"Masukkan nilai b: \"))\n",
        "\n",
        "print(f\"Hasil penjumlahan {a} + {b} = {a+b}\")\n",
        "print(f\"Hasil perkalian {a} * {b} = {a*b}\")\n",
        "print(f\"Hasil pembagian {a} / {b} = {a/b: 3f}\")"
      ],
      "metadata": {
        "colab": {
          "base_uri": "https://localhost:8080/"
        },
        "id": "vepWN_D-gAeA",
        "outputId": "fc6aa4d6-5328-43ac-c6d1-e3c57ed02b93"
      },
      "execution_count": null,
      "outputs": [
        {
          "output_type": "stream",
          "name": "stdout",
          "text": [
            "Masukkan nilai a: 23\n",
            "Masukkan nilai b: 4\n",
            "Hasil penjumlahan 23 + 4 = 27\n",
            "Hasil perkalian 23 * 4 = 92\n",
            "Hasil pembagian 23 / 4 =  5.750000\n"
          ]
        }
      ]
    },
    {
      "cell_type": "markdown",
      "source": [
        "Penugasan Nomor 8 - Casting Data"
      ],
      "metadata": {
        "id": "F4jhJeZ5iJbt"
      }
    },
    {
      "cell_type": "code",
      "source": [
        "angka_string = input(\"Masukkan angka: \")\n",
        "angka_integer = int(float(angka_string))\n",
        "hasil_kuadrat = angka_integer ** 2\n",
        "print(f\"Hasil kuadrat dari {angka_integer} adalah {hasil_kuadrat}\")\n",
        "\n",
        "angka_float = float(angka_string)\n",
        "print(f\" Diubah ke angka float : {angka_float:.2f}\")"
      ],
      "metadata": {
        "colab": {
          "base_uri": "https://localhost:8080/"
        },
        "id": "tNmkULoHiP4e",
        "outputId": "7fedc1b1-84cc-4521-a62b-253e6c315b91"
      },
      "execution_count": null,
      "outputs": [
        {
          "output_type": "stream",
          "name": "stdout",
          "text": [
            "Masukkan angka: 4\n",
            "Hasil kuadrat dari 4 adalah 16\n",
            " Diubah ke angka float : 4.00\n"
          ]
        }
      ]
    },
    {
      "cell_type": "markdown",
      "source": [
        "Penugasan Nomor 9 - Analisis Teks"
      ],
      "metadata": {
        "id": "krMILE1dlAYe"
      }
    },
    {
      "cell_type": "code",
      "source": [
        "kalimat = input(\"Masukkan kalimat : \")\n",
        "daftar_kata = kalimat.split()\n",
        "\n",
        "jumlah_kata = len(daftar_kata)\n",
        "print(f\"Jumlah kata dalam kalimat: {jumlah_kata}\")\n",
        "\n",
        "kata_terpanjang = max(daftar_kata, key=len)\n",
        "print(f\"Kata terpanjang: {kata_terpanjang}\")\n",
        "\n",
        "urutan_abjad = sorted(daftar_kata, key=str.lower)\n",
        "print(\"Urutan kata (sesuai abjad): \")\n",
        "for kata in urutan_abjad:\n",
        "  print(f\"{kata}\")"
      ],
      "metadata": {
        "colab": {
          "base_uri": "https://localhost:8080/"
        },
        "id": "3OfWYZN1k_O1",
        "outputId": "93120121-9a84-4c2f-bad2-844020cc82f2"
      },
      "execution_count": null,
      "outputs": [
        {
          "output_type": "stream",
          "name": "stdout",
          "text": [
            "Masukkan kalimat : Kurnia Angga Dimas Pratama\n",
            "Jumlah kata dalam kalimat: 4\n",
            "Kata terpanjang: Pratama\n",
            "Urutan kata (sesuai abjad): \n",
            "Angga\n",
            "Dimas\n",
            "Kurnia\n",
            "Pratama\n"
          ]
        }
      ]
    }
  ],
  "metadata": {
    "colab": {
      "provenance": [],
      "authorship_tag": "ABX9TyMBvRTOjj9cm+mueoAKGBj5",
      "include_colab_link": true
    },
    "kernelspec": {
      "display_name": "Python 3",
      "name": "python3"
    },
    "language_info": {
      "name": "python"
    }
  },
  "nbformat": 4,
  "nbformat_minor": 0
}